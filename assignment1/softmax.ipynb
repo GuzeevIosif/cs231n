{
 "cells": [
  {
   "cell_type": "markdown",
   "id": "26fdca1c",
   "metadata": {
    "tags": [
     "pdf-title"
    ]
   },
   "source": [
    "# Softmax exercise\n",
    "\n",
    "*Complete and hand in this completed worksheet (including its outputs and any supporting code outside of the worksheet) with your assignment submission. For more details see the [assignments page](http://vision.stanford.edu/teaching/cs231n/assignments.html) on the course website.*\n",
    "\n",
    "This exercise is analogous to the SVM exercise. You will:\n",
    "\n",
    "- implement a fully-vectorized **loss function** for the Softmax classifier\n",
    "- implement the fully-vectorized expression for its **analytic gradient**\n",
    "- **check your implementation** with numerical gradient\n",
    "- use a validation set to **tune the learning rate and regularization** strength\n",
    "- **optimize** the loss function with **SGD**\n",
    "- **visualize** the final learned weights\n"
   ]
  },
  {
   "cell_type": "code",
   "execution_count": 5,
   "id": "1f12280f",
   "metadata": {
    "tags": [
     "pdf-ignore"
    ]
   },
   "outputs": [],
   "source": [
    "import random\n",
    "import numpy as np\n",
    "from cs231n.data_utils import load_CIFAR10\n",
    "import matplotlib.pyplot as plt\n",
    "\n",
    "%matplotlib inline\n",
    "plt.rcParams['figure.figsize'] = (10.0, 8.0) # set default size of plots\n",
    "plt.rcParams['image.interpolation'] = 'nearest'\n",
    "plt.rcParams['image.cmap'] = 'gray'\n",
    "\n",
    "# for auto-reloading extenrnal modules\n",
    "# see http://stackoverflow.com/questions/1907993/autoreload-of-modules-in-ipython\n",
    "%load_ext autoreload\n",
    "%autoreload 2"
   ]
  },
  {
   "cell_type": "code",
   "execution_count": 7,
   "id": "ab106c82",
   "metadata": {
    "tags": [
     "pdf-ignore"
    ]
   },
   "outputs": [
    {
     "name": "stdout",
     "output_type": "stream",
     "text": [
      "Train data shape:  (49000, 3073)\n",
      "Train labels shape:  (49000,)\n",
      "Validation data shape:  (1000, 3073)\n",
      "Validation labels shape:  (1000,)\n",
      "Test data shape:  (1000, 3073)\n",
      "Test labels shape:  (1000,)\n",
      "dev data shape:  (500, 3073)\n",
      "dev labels shape:  (500,)\n"
     ]
    }
   ],
   "source": [
    "def get_CIFAR10_data(num_training=49000, num_validation=1000, num_test=1000, num_dev=500):\n",
    "    \"\"\"\n",
    "    Load the CIFAR-10 dataset from disk and perform preprocessing to prepare\n",
    "    it for the linear classifier. These are the same steps as we used for the\n",
    "    SVM, but condensed to a single function.  \n",
    "    \"\"\"\n",
    "    # Load the raw CIFAR-10 data\n",
    "    cifar10_dir = 'cs231n/datasets/cifar-10-batches-py'\n",
    "    \n",
    "    # Cleaning up variables to prevent loading data multiple times (which may cause memory issue)\n",
    "    try:\n",
    "        del X_train, y_train\n",
    "        del X_test, y_test\n",
    "        print('Clear previously loaded data.')\n",
    "    except:\n",
    "        pass\n",
    "\n",
    "    X_train, y_train, X_test, y_test = load_CIFAR10(cifar10_dir)\n",
    "    \n",
    "    # subsample the data\n",
    "    mask = list(range(num_training, num_training + num_validation))\n",
    "    X_val = X_train[mask]\n",
    "    y_val = y_train[mask]\n",
    "    mask = list(range(num_training))\n",
    "    X_train = X_train[mask]\n",
    "    y_train = y_train[mask]\n",
    "    mask = list(range(num_test))\n",
    "    X_test = X_test[mask]\n",
    "    y_test = y_test[mask]\n",
    "    mask = np.random.choice(num_training, num_dev, replace=False)\n",
    "    X_dev = X_train[mask]\n",
    "    y_dev = y_train[mask]\n",
    "    \n",
    "    # Preprocessing: reshape the image data into rows\n",
    "    X_train = np.reshape(X_train, (X_train.shape[0], -1))\n",
    "    X_val = np.reshape(X_val, (X_val.shape[0], -1))\n",
    "    X_test = np.reshape(X_test, (X_test.shape[0], -1))\n",
    "    X_dev = np.reshape(X_dev, (X_dev.shape[0], -1))\n",
    "    \n",
    "    # Normalize the data: subtract the mean image\n",
    "    mean_image = np.mean(X_train, axis = 0)\n",
    "    X_train -= mean_image\n",
    "    X_val -= mean_image\n",
    "    X_test -= mean_image\n",
    "    X_dev -= mean_image\n",
    "    \n",
    "    # add bias dimension and transform into columns\n",
    "    X_train = np.hstack([X_train, np.ones((X_train.shape[0], 1))])\n",
    "    X_val = np.hstack([X_val, np.ones((X_val.shape[0], 1))])\n",
    "    X_test = np.hstack([X_test, np.ones((X_test.shape[0], 1))])\n",
    "    X_dev = np.hstack([X_dev, np.ones((X_dev.shape[0], 1))])\n",
    "    \n",
    "    return X_train, y_train, X_val, y_val, X_test, y_test, X_dev, y_dev\n",
    "\n",
    "\n",
    "# Invoke the above function to get our data.\n",
    "X_train, y_train, X_val, y_val, X_test, y_test, X_dev, y_dev = get_CIFAR10_data()\n",
    "print('Train data shape: ', X_train.shape)\n",
    "print('Train labels shape: ', y_train.shape)\n",
    "print('Validation data shape: ', X_val.shape)\n",
    "print('Validation labels shape: ', y_val.shape)\n",
    "print('Test data shape: ', X_test.shape)\n",
    "print('Test labels shape: ', y_test.shape)\n",
    "print('dev data shape: ', X_dev.shape)\n",
    "print('dev labels shape: ', y_dev.shape)"
   ]
  },
  {
   "cell_type": "markdown",
   "id": "4721c3cb",
   "metadata": {},
   "source": [
    "## Softmax Classifier\n",
    "\n",
    "Your code for this section will all be written inside `cs231n/classifiers/softmax.py`.\n"
   ]
  },
  {
   "cell_type": "code",
   "execution_count": 109,
   "id": "dd95d43d",
   "metadata": {},
   "outputs": [
    {
     "data": {
      "text/plain": [
       "1.3036259630620517"
      ]
     },
     "execution_count": 109,
     "metadata": {},
     "output_type": "execute_result"
    }
   ],
   "source": [
    "scores = np.matmul(X_dev, W)\n",
    "exp_scores = np.exp(scores)\n",
    "y_pred = np.exp(exp_scores).T / np.sum(exp_scores, axis=1)\n",
    "loss = np.log(y_pred.T[range(X_dev.shape[0]), y_dev])\n",
    "loss = -np.sum(loss) / X_dev.shape[0] + 0.0 * np.sum(W * W)\n",
    "loss"
   ]
  },
  {
   "cell_type": "code",
   "execution_count": 111,
   "id": "d42765cd",
   "metadata": {},
   "outputs": [
    {
     "name": "stdout",
     "output_type": "stream",
     "text": [
      "loss: 2.359947\n",
      "sanity check: 2.302585\n"
     ]
    }
   ],
   "source": [
    "# First implement the naive softmax loss function with nested loops.\n",
    "# Open the file cs231n/classifiers/softmax.py and implement the\n",
    "# softmax_loss_naive function.\n",
    "\n",
    "from cs231n.classifiers.softmax import softmax_loss_naive\n",
    "import time\n",
    "\n",
    "# Generate a random softmax weight matrix and use it to compute the loss.\n",
    "W = np.random.randn(3073, 10) * 0.0001\n",
    "loss, grad = softmax_loss_naive(W, X_dev, y_dev, 0.0)\n",
    "\n",
    "# As a rough sanity check, our loss should be something close to -log(0.1).\n",
    "print('loss: %f' % loss)\n",
    "print('sanity check: %f' % (-np.log(0.1)))"
   ]
  },
  {
   "cell_type": "markdown",
   "id": "6f88764e",
   "metadata": {
    "tags": [
     "pdf-inline"
    ]
   },
   "source": [
    "**Inline Question 1**\n",
    "\n",
    "Why do we expect our loss to be close to -log(0.1)? Explain briefly.**\n",
    "\n",
    "$\\color{blue}{\\textit Your Answer:}$ *Fill this in* \n",
    "\n"
   ]
  },
  {
   "cell_type": "code",
   "execution_count": 112,
   "id": "4c2626ef",
   "metadata": {},
   "outputs": [
    {
     "name": "stdout",
     "output_type": "stream",
     "text": [
      "numerical: -0.649853 analytic: -0.649853, relative error: 1.099331e-07\n",
      "numerical: -5.304860 analytic: -5.304860, relative error: 1.067068e-08\n",
      "numerical: 1.729489 analytic: 1.729489, relative error: 4.425329e-08\n",
      "numerical: -2.142900 analytic: -2.142900, relative error: 2.477000e-08\n",
      "numerical: 0.785746 analytic: 0.785746, relative error: 8.224885e-09\n",
      "numerical: 1.130444 analytic: 1.130444, relative error: 1.859076e-09\n",
      "numerical: 0.878160 analytic: 0.878160, relative error: 3.059781e-08\n",
      "numerical: 2.012381 analytic: 2.012381, relative error: 1.340725e-08\n",
      "numerical: 0.036546 analytic: 0.036546, relative error: 9.975128e-08\n",
      "numerical: 1.872967 analytic: 1.872967, relative error: 3.388870e-08\n",
      "numerical: 0.762304 analytic: 0.762304, relative error: 5.236192e-08\n",
      "numerical: -1.569224 analytic: -1.569224, relative error: 1.279380e-08\n",
      "numerical: 1.990375 analytic: 1.990375, relative error: 9.041631e-09\n",
      "numerical: -1.380600 analytic: -1.380600, relative error: 3.323359e-08\n",
      "numerical: -0.069744 analytic: -0.069744, relative error: 4.743649e-07\n",
      "numerical: -0.058353 analytic: -0.058353, relative error: 4.968975e-07\n",
      "numerical: 3.329781 analytic: 3.329781, relative error: 1.378153e-08\n",
      "numerical: -0.341232 analytic: -0.341232, relative error: 1.378119e-07\n",
      "numerical: 2.054157 analytic: 2.054157, relative error: 1.575892e-08\n",
      "numerical: 1.561064 analytic: 1.561063, relative error: 1.774701e-08\n"
     ]
    }
   ],
   "source": [
    "# Complete the implementation of softmax_loss_naive and implement a (naive)\n",
    "# version of the gradient that uses nested loops.\n",
    "loss, grad = softmax_loss_naive(W, X_dev, y_dev, 0.0)\n",
    "\n",
    "# As we did for the SVM, use numeric gradient checking as a debugging tool.\n",
    "# The numeric gradient should be close to the analytic gradient.\n",
    "from cs231n.gradient_check import grad_check_sparse\n",
    "f = lambda w: softmax_loss_naive(w, X_dev, y_dev, 0.0)[0]\n",
    "grad_numerical = grad_check_sparse(f, W, grad, 10)\n",
    "\n",
    "# similar to SVM case, do another gradient check with regularization\n",
    "loss, grad = softmax_loss_naive(W, X_dev, y_dev, 5e1)\n",
    "f = lambda w: softmax_loss_naive(w, X_dev, y_dev, 5e1)[0]\n",
    "grad_numerical = grad_check_sparse(f, W, grad, 10)"
   ]
  },
  {
   "cell_type": "code",
   "execution_count": 114,
   "id": "434e757f",
   "metadata": {},
   "outputs": [
    {
     "name": "stdout",
     "output_type": "stream",
     "text": [
      "naive loss: 2.359947e+00 computed in 0.003972s\n",
      "vectorized loss: 2.359947e+00 computed in 0.002968s\n",
      "Loss difference: 0.000000\n",
      "Gradient difference: 0.000000\n"
     ]
    }
   ],
   "source": [
    "# Now that we have a naive implementation of the softmax loss function and its gradient,\n",
    "# implement a vectorized version in softmax_loss_vectorized.\n",
    "# The two versions should compute the same results, but the vectorized version should be\n",
    "# much faster.\n",
    "tic = time.time()\n",
    "loss_naive, grad_naive = softmax_loss_naive(W, X_dev, y_dev, 0.000005)\n",
    "toc = time.time()\n",
    "print('naive loss: %e computed in %fs' % (loss_naive, toc - tic))\n",
    "\n",
    "from cs231n.classifiers.softmax import softmax_loss_vectorized\n",
    "tic = time.time()\n",
    "loss_vectorized, grad_vectorized = softmax_loss_vectorized(W, X_dev, y_dev, 0.000005)\n",
    "toc = time.time()\n",
    "print('vectorized loss: %e computed in %fs' % (loss_vectorized, toc - tic))\n",
    "\n",
    "# As we did for the SVM, we use the Frobenius norm to compare the two versions\n",
    "# of the gradient.\n",
    "grad_difference = np.linalg.norm(grad_naive - grad_vectorized, ord='fro')\n",
    "print('Loss difference: %f' % np.abs(loss_naive - loss_vectorized))\n",
    "print('Gradient difference: %f' % grad_difference)"
   ]
  },
  {
   "cell_type": "code",
   "execution_count": 119,
   "id": "2e5e374d",
   "metadata": {
    "tags": [
     "code"
    ],
    "test": "tuning"
   },
   "outputs": [
    {
     "name": "stdout",
     "output_type": "stream",
     "text": [
      "iteration 0 / 1500: loss 312.610300\n",
      "iteration 100 / 1500: loss 209.317343\n",
      "iteration 200 / 1500: loss 140.403896\n",
      "iteration 300 / 1500: loss 94.340729\n",
      "iteration 400 / 1500: loss 63.727185\n",
      "iteration 500 / 1500: loss 43.408051\n",
      "iteration 600 / 1500: loss 29.689360\n",
      "iteration 700 / 1500: loss 20.433387\n",
      "iteration 800 / 1500: loss 14.345562\n",
      "iteration 900 / 1500: loss 10.298538\n",
      "iteration 1000 / 1500: loss 7.537508\n",
      "iteration 1100 / 1500: loss 5.715338\n",
      "iteration 1200 / 1500: loss 4.449400\n",
      "iteration 1300 / 1500: loss 3.691954\n",
      "iteration 1400 / 1500: loss 3.130204\n",
      "iteration 0 / 1500: loss 769.918343\n",
      "iteration 100 / 1500: loss 282.394299\n",
      "iteration 200 / 1500: loss 104.633416\n",
      "iteration 300 / 1500: loss 39.546644\n",
      "iteration 400 / 1500: loss 15.848918\n",
      "iteration 500 / 1500: loss 7.159285\n",
      "iteration 600 / 1500: loss 3.882974\n",
      "iteration 700 / 1500: loss 2.744697\n",
      "iteration 800 / 1500: loss 2.330171\n",
      "iteration 900 / 1500: loss 2.206127\n",
      "iteration 1000 / 1500: loss 2.119199\n",
      "iteration 1100 / 1500: loss 2.125122\n",
      "iteration 1200 / 1500: loss 2.066629\n",
      "iteration 1300 / 1500: loss 2.088721\n",
      "iteration 1400 / 1500: loss 2.090535\n",
      "iteration 0 / 1500: loss 1544.836673\n",
      "iteration 100 / 1500: loss 207.850924\n",
      "iteration 200 / 1500: loss 29.608535\n",
      "iteration 300 / 1500: loss 5.836799\n",
      "iteration 400 / 1500: loss 2.615851\n",
      "iteration 500 / 1500: loss 2.229385\n",
      "iteration 600 / 1500: loss 2.182188\n",
      "iteration 700 / 1500: loss 2.125519\n",
      "iteration 800 / 1500: loss 2.148367\n",
      "iteration 900 / 1500: loss 2.169334\n",
      "iteration 1000 / 1500: loss 2.147461\n",
      "iteration 1100 / 1500: loss 2.102128\n",
      "iteration 1200 / 1500: loss 2.119173\n",
      "iteration 1300 / 1500: loss 2.171652\n",
      "iteration 1400 / 1500: loss 2.120837\n",
      "iteration 0 / 1500: loss 312.580852\n",
      "iteration 100 / 1500: loss 42.892080\n",
      "iteration 200 / 1500: loss 7.359030\n",
      "iteration 300 / 1500: loss 2.695466\n",
      "iteration 400 / 1500: loss 2.107881\n",
      "iteration 500 / 1500: loss 2.076915\n",
      "iteration 600 / 1500: loss 2.030722\n",
      "iteration 700 / 1500: loss 1.933196\n",
      "iteration 800 / 1500: loss 1.992233\n",
      "iteration 900 / 1500: loss 1.996171\n",
      "iteration 1000 / 1500: loss 2.020954\n",
      "iteration 1100 / 1500: loss 2.023173\n",
      "iteration 1200 / 1500: loss 2.052358\n",
      "iteration 1300 / 1500: loss 1.969043\n",
      "iteration 1400 / 1500: loss 1.982952\n",
      "iteration 0 / 1500: loss 769.856257\n",
      "iteration 100 / 1500: loss 6.903179\n",
      "iteration 200 / 1500: loss 2.171368\n",
      "iteration 300 / 1500: loss 2.088855\n",
      "iteration 400 / 1500: loss 2.143809\n",
      "iteration 500 / 1500: loss 2.105767\n",
      "iteration 600 / 1500: loss 2.143055\n",
      "iteration 700 / 1500: loss 2.095362\n",
      "iteration 800 / 1500: loss 2.067939\n",
      "iteration 900 / 1500: loss 2.061812\n",
      "iteration 1000 / 1500: loss 2.087420\n",
      "iteration 1100 / 1500: loss 2.147581\n",
      "iteration 1200 / 1500: loss 2.087875\n",
      "iteration 1300 / 1500: loss 2.097638\n",
      "iteration 1400 / 1500: loss 2.080109\n",
      "iteration 0 / 1500: loss 1565.911394\n",
      "iteration 100 / 1500: loss 2.227283\n",
      "iteration 200 / 1500: loss 2.135308\n",
      "iteration 300 / 1500: loss 2.113906\n",
      "iteration 400 / 1500: loss 2.151246\n",
      "iteration 500 / 1500: loss 2.113013\n",
      "iteration 600 / 1500: loss 2.166929\n",
      "iteration 700 / 1500: loss 2.188976\n",
      "iteration 800 / 1500: loss 2.187808\n",
      "iteration 900 / 1500: loss 2.120564\n",
      "iteration 1000 / 1500: loss 2.175233\n",
      "iteration 1100 / 1500: loss 2.139618\n",
      "iteration 1200 / 1500: loss 2.106619\n",
      "iteration 1300 / 1500: loss 2.184665\n",
      "iteration 1400 / 1500: loss 2.123946\n",
      "iteration 0 / 1500: loss 308.772147\n",
      "iteration 100 / 1500: loss 296.107140\n",
      "iteration 200 / 1500: loss 284.246780\n",
      "iteration 300 / 1500: loss 272.756819\n",
      "iteration 400 / 1500: loss 262.015316\n",
      "iteration 500 / 1500: loss 251.673899\n",
      "iteration 600 / 1500: loss 241.899057\n",
      "iteration 700 / 1500: loss 231.903483\n",
      "iteration 800 / 1500: loss 223.123744\n",
      "iteration 900 / 1500: loss 214.198956\n",
      "iteration 1000 / 1500: loss 206.082454\n",
      "iteration 1100 / 1500: loss 197.976792\n",
      "iteration 1200 / 1500: loss 189.984486\n",
      "iteration 1300 / 1500: loss 182.769914\n",
      "iteration 1400 / 1500: loss 175.379166\n",
      "iteration 0 / 1500: loss 768.148527\n",
      "iteration 100 / 1500: loss 694.432120\n",
      "iteration 200 / 1500: loss 628.228187\n",
      "iteration 300 / 1500: loss 568.581564\n",
      "iteration 400 / 1500: loss 514.468862\n",
      "iteration 500 / 1500: loss 465.280379\n",
      "iteration 600 / 1500: loss 420.935724\n",
      "iteration 700 / 1500: loss 381.200022\n",
      "iteration 800 / 1500: loss 344.912339\n",
      "iteration 900 / 1500: loss 312.405172\n",
      "iteration 1000 / 1500: loss 282.510736\n",
      "iteration 1100 / 1500: loss 256.004090\n",
      "iteration 1200 / 1500: loss 231.665914\n",
      "iteration 1300 / 1500: loss 209.752481\n",
      "iteration 1400 / 1500: loss 189.888575\n",
      "iteration 0 / 1500: loss 1542.504872\n",
      "iteration 100 / 1500: loss 1263.090205\n",
      "iteration 200 / 1500: loss 1033.084306\n",
      "iteration 300 / 1500: loss 846.206474\n",
      "iteration 400 / 1500: loss 692.758254\n",
      "iteration 500 / 1500: loss 567.140769\n",
      "iteration 600 / 1500: loss 464.804338\n",
      "iteration 700 / 1500: loss 380.668316\n",
      "iteration 800 / 1500: loss 311.761135\n",
      "iteration 900 / 1500: loss 255.577040\n",
      "iteration 1000 / 1500: loss 209.618739\n",
      "iteration 1100 / 1500: loss 171.740480\n",
      "iteration 1200 / 1500: loss 140.923655\n",
      "iteration 1300 / 1500: loss 115.793668\n",
      "iteration 1400 / 1500: loss 95.021693\n",
      "lr 1.000000e-08 reg 1.000000e+04 train accuracy: 0.156163 val accuracy: 0.192000\n",
      "lr 1.000000e-08 reg 2.500000e+04 train accuracy: 0.173796 val accuracy: 0.177000\n",
      "lr 1.000000e-08 reg 5.000000e+04 train accuracy: 0.197449 val accuracy: 0.212000\n",
      "lr 1.000000e-07 reg 1.000000e+04 train accuracy: 0.355939 val accuracy: 0.355000\n",
      "lr 1.000000e-07 reg 2.500000e+04 train accuracy: 0.329592 val accuracy: 0.338000\n",
      "lr 1.000000e-07 reg 5.000000e+04 train accuracy: 0.305163 val accuracy: 0.324000\n",
      "lr 5.000000e-07 reg 1.000000e+04 train accuracy: 0.354939 val accuracy: 0.365000\n",
      "lr 5.000000e-07 reg 2.500000e+04 train accuracy: 0.333714 val accuracy: 0.334000\n",
      "lr 5.000000e-07 reg 5.000000e+04 train accuracy: 0.300816 val accuracy: 0.316000\n",
      "best validation accuracy achieved during cross-validation: 0.365000\n"
     ]
    }
   ],
   "source": [
    "# Use the validation set to tune hyperparameters (regularization strength and\n",
    "# learning rate). You should experiment with different ranges for the learning\n",
    "# rates and regularization strengths; if you are careful you should be able to\n",
    "# get a classification accuracy of over 0.35 on the validation set.\n",
    "\n",
    "from cs231n.classifiers import Softmax\n",
    "results = {}\n",
    "best_val = -1\n",
    "best_softmax = None\n",
    "\n",
    "################################################################################\n",
    "# TODO:                                                                        #\n",
    "# Use the validation set to set the learning rate and regularization strength. #\n",
    "# This should be identical to the validation that you did for the SVM; save    #\n",
    "# the best trained softmax classifer in best_softmax.                          #\n",
    "################################################################################\n",
    "\n",
    "# Provided as a reference. You may or may not want to change these hyperparameters\n",
    "learning_rates = [1e-7, 5e-7, 1e-8]\n",
    "regularization_strengths = [1e4, 2.5e4, 5e4]\n",
    "\n",
    "# *****START OF YOUR CODE (DO NOT DELETE/MODIFY THIS LINE)*****\n",
    "\n",
    "from itertools import product\n",
    "\n",
    "for lr, reg in product(learning_rates, regularization_strengths):\n",
    "    softmax = Softmax()\n",
    "    softmax.train(X_train, y_train, learning_rate=lr, reg=reg, num_iters=1500, verbose=True)\n",
    "    y_train_pred = softmax.predict(X_train)\n",
    "    y_val_pred = softmax.predict(X_val)\n",
    "    \n",
    "    train_acc = np.mean(y_train == y_train_pred)\n",
    "    val_acc = np.mean(y_val == y_val_pred)\n",
    "    results[(lr, reg)] = (train_acc, val_acc)\n",
    "    if val_acc > best_val:\n",
    "        best_val = val_acc\n",
    "        best_softmax = softmax\n",
    "\n",
    "# *****END OF YOUR CODE (DO NOT DELETE/MODIFY THIS LINE)*****\n",
    "    \n",
    "# Print out results.\n",
    "for lr, reg in sorted(results):\n",
    "    train_accuracy, val_accuracy = results[(lr, reg)]\n",
    "    print('lr %e reg %e train accuracy: %f val accuracy: %f' % (\n",
    "                lr, reg, train_accuracy, val_accuracy))\n",
    "    \n",
    "print('best validation accuracy achieved during cross-validation: %f' % best_val)"
   ]
  },
  {
   "cell_type": "code",
   "execution_count": 120,
   "id": "deb37cc6",
   "metadata": {
    "test": "test"
   },
   "outputs": [
    {
     "name": "stdout",
     "output_type": "stream",
     "text": [
      "softmax on raw pixels final test set accuracy: 0.350000\n"
     ]
    }
   ],
   "source": [
    "# evaluate on test set\n",
    "# Evaluate the best softmax on test set\n",
    "y_test_pred = best_softmax.predict(X_test)\n",
    "test_accuracy = np.mean(y_test == y_test_pred)\n",
    "print('softmax on raw pixels final test set accuracy: %f' % (test_accuracy, ))"
   ]
  },
  {
   "cell_type": "markdown",
   "id": "df501314",
   "metadata": {
    "tags": [
     "pdf-inline"
    ]
   },
   "source": [
    "**Inline Question 2** - *True or False*\n",
    "\n",
    "Suppose the overall training loss is defined as the sum of the per-datapoint loss over all training examples. It is possible to add a new datapoint to a training set that would leave the SVM loss unchanged, but this is not the case with the Softmax classifier loss.\n",
    "\n",
    "$\\color{blue}{\\textit Your Answer:}$\n",
    "\n",
    "\n",
    "$\\color{blue}{\\textit Your Explanation:}$\n",
    "\n"
   ]
  },
  {
   "cell_type": "code",
   "execution_count": 121,
   "id": "ade33adc",
   "metadata": {},
   "outputs": [
    {
     "data": {
      "image/png": "[encoded data removed]",
      "text/plain": [
       "<Figure size 720x576 with 10 Axes>"
      ]
     },
     "metadata": {
      "needs_background": "light"
     },
     "output_type": "display_data"
    }
   ],
   "source": [
    "# Visualize the learned weights for each class\n",
    "w = best_softmax.W[:-1,:] # strip out the bias\n",
    "w = w.reshape(32, 32, 3, 10)\n",
    "\n",
    "w_min, w_max = np.min(w), np.max(w)\n",
    "\n",
    "classes = ['plane', 'car', 'bird', 'cat', 'deer', 'dog', 'frog', 'horse', 'ship', 'truck']\n",
    "for i in range(10):\n",
    "    plt.subplot(2, 5, i + 1)\n",
    "    \n",
    "    # Rescale the weights to be between 0 and 255\n",
    "    wimg = 255.0 * (w[:, :, :, i].squeeze() - w_min) / (w_max - w_min)\n",
    "    plt.imshow(wimg.astype('uint8'))\n",
    "    plt.axis('off')\n",
    "    plt.title(classes[i])"
   ]
  }
 ],
 "metadata": {
  "kernelspec": {
   "display_name": "Python 3 (ipykernel)",
   "language": "python",
   "name": "python3"
  },
  "language_info": {
   "codemirror_mode": {
    "name": "ipython",
    "version": 3
   },
   "file_extension": ".py",
   "mimetype": "text/x-python",
   "name": "python",
   "nbconvert_exporter": "python",
   "pygments_lexer": "ipython3",
   "version": "3.7.8"
  }
 },
 "nbformat": 4,
 "nbformat_minor": 5
}
